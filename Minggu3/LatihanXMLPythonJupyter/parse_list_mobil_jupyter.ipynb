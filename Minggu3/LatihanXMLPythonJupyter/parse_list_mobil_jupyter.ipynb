{
 "cells": [
  {
   "cell_type": "markdown",
   "id": "27e907cc-5e28-4eeb-9dc0-cad71d9c5b99",
   "metadata": {},
   "source": [
    "# Test parse_list_mobil Jupyter Notebook"
   ]
  },
  {
   "cell_type": "code",
   "execution_count": 2,
   "id": "87206fca-5f6b-4bf5-adfb-4336f2b2ecd0",
   "metadata": {},
   "outputs": [
    {
     "name": "stdout",
     "output_type": "stream",
     "text": [
      "#document\n",
      "Experiment XML Python\n",
      "List mobil supercar\n",
      "\n",
      "No: 1.\n",
      "Merek: Audi\n",
      "Model: R8 Coupe\n",
      "Tahun: 2022\n",
      "Mesin: V10 5.2L\n",
      "\n",
      "No: 2.\n",
      "Merek: BMW\n",
      "Model: M8 Coupe\n",
      "Tahun: 2020\n",
      "Mesin: V8 4.4L Twin-turbo\n",
      "\n",
      "No: 3.\n",
      "Merek: Mercedes-AMG\n",
      "Model: S65 AMG Coupe\n",
      "Tahun: 2019\n",
      "Mesin: V12 6.0L Twin-turbo\n",
      "\n",
      "No: 4.\n",
      "Merek: Porsche\n",
      "Model: 918 Spyder\n",
      "Tahun: 2015\n",
      "Mesin: V8 4.6L Plug-in Hybrid\n",
      "\n",
      "No: 5.\n",
      "Merek: Nissan\n",
      "Model: GT-R R35 Nismo\n",
      "Tahun: 2019\n",
      "Mesin: V6 3.8L Twin-turbo\n"
     ]
    }
   ],
   "source": [
    "import xml.dom.minidom as minidom\n",
    "\n",
    "def main():\n",
    "    \n",
    "    doc = minidom.parse(r'C:\\Users\\Masahiro benz\\Kuliah\\S4\\PMesin\\Minggu3\\LatihanXMLPythonJupyter\\list_mobil.xml')\n",
    "\n",
    "    print(doc.nodeName)\n",
    "    print(\"Experiment XML Python\")\n",
    "    print(\"List mobil supercar\")\n",
    "\n",
    "    no = doc.getElementsByTagName(\"no\")[0].firstChild.data\n",
    "    merek = doc.getElementsByTagName(\"merek\")[0].firstChild.data\n",
    "    model = doc.getElementsByTagName(\"model\")[0].firstChild.data\n",
    "    tahun = doc.getElementsByTagName(\"tahun\")[0].firstChild.data\n",
    "    mesin = doc.getElementsByTagName(\"mesin\")[0].firstChild.data\n",
    "    \n",
    "    print (\"\\nNo: {}\\nMerek: {}\\nModel: {}\\nTahun: {}\\nMesin: {}\\n\".format(no, merek, model, tahun, mesin))\n",
    "\n",
    "    no = doc.getElementsByTagName(\"no\")[1].firstChild.data\n",
    "    merek = doc.getElementsByTagName(\"merek\")[1].firstChild.data\n",
    "    model = doc.getElementsByTagName(\"model\")[1].firstChild.data\n",
    "    tahun = doc.getElementsByTagName(\"tahun\")[1].firstChild.data\n",
    "    mesin = doc.getElementsByTagName(\"mesin\")[1].firstChild.data\n",
    "    \n",
    "    print (\"No: {}\\nMerek: {}\\nModel: {}\\nTahun: {}\\nMesin: {}\\n\".format(no, merek, model, tahun, mesin))\n",
    "\n",
    "    no = doc.getElementsByTagName(\"no\")[2].firstChild.data\n",
    "    merek = doc.getElementsByTagName(\"merek\")[2].firstChild.data\n",
    "    model = doc.getElementsByTagName(\"model\")[2].firstChild.data\n",
    "    tahun = doc.getElementsByTagName(\"tahun\")[2].firstChild.data\n",
    "    mesin = doc.getElementsByTagName(\"mesin\")[2].firstChild.data\n",
    "    \n",
    "    print (\"No: {}\\nMerek: {}\\nModel: {}\\nTahun: {}\\nMesin: {}\\n\".format(no, merek, model, tahun, mesin))\n",
    "\n",
    "    no = doc.getElementsByTagName(\"no\")[3].firstChild.data\n",
    "    merek = doc.getElementsByTagName(\"merek\")[3].firstChild.data\n",
    "    model = doc.getElementsByTagName(\"model\")[3].firstChild.data\n",
    "    tahun = doc.getElementsByTagName(\"tahun\")[3].firstChild.data\n",
    "    mesin = doc.getElementsByTagName(\"mesin\")[3].firstChild.data\n",
    "    \n",
    "    print (\"No: {}\\nMerek: {}\\nModel: {}\\nTahun: {}\\nMesin: {}\\n\".format(no, merek, model, tahun, mesin))\n",
    "\n",
    "    no = doc.getElementsByTagName(\"no\")[4].firstChild.data\n",
    "    merek = doc.getElementsByTagName(\"merek\")[4].firstChild.data\n",
    "    model = doc.getElementsByTagName(\"model\")[4].firstChild.data\n",
    "    tahun = doc.getElementsByTagName(\"tahun\")[4].firstChild.data\n",
    "    mesin = doc.getElementsByTagName(\"mesin\")[4].firstChild.data\n",
    "\n",
    "    print (\"No: {}\\nMerek: {}\\nModel: {}\\nTahun: {}\\nMesin: {}\".format(no, merek, model, tahun, mesin))\n",
    "\n",
    "if __name__ == \"__main__\":\n",
    "    main()\n"
   ]
  },
  {
   "cell_type": "code",
   "execution_count": null,
   "id": "458c671b-4803-4bb9-a743-a42dec4ded9f",
   "metadata": {},
   "outputs": [],
   "source": []
  }
 ],
 "metadata": {
  "kernelspec": {
   "display_name": "Python 3 (ipykernel)",
   "language": "python",
   "name": "python3"
  },
  "language_info": {
   "codemirror_mode": {
    "name": "ipython",
    "version": 3
   },
   "file_extension": ".py",
   "mimetype": "text/x-python",
   "name": "python",
   "nbconvert_exporter": "python",
   "pygments_lexer": "ipython3",
   "version": "3.11.7"
  }
 },
 "nbformat": 4,
 "nbformat_minor": 5
}
